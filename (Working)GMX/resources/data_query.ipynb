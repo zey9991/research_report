{
 "cells": [
  {
   "cell_type": "code",
   "execution_count": 3,
   "metadata": {},
   "outputs": [
    {
     "name": "stdout",
     "output_type": "stream",
     "text": [
      "数据已成功保存为 pendle_tvl_data.xlsx\n"
     ]
    }
   ],
   "source": [
    "import requests\n",
    "import pandas as pd\n",
    "\n",
    "# 设置 API URL\n",
    "url = 'https://api.llama.fi/protocol/pendle'\n",
    "\n",
    "# 发起 GET 请求\n",
    "response = requests.get(url)\n",
    "\n",
    "# 检查响应状态\n",
    "if response.status_code == 200:\n",
    "    # 解析 JSON 数据\n",
    "    data = response.json()\n",
    "    \n",
    "    # 提取 chainTvls 下的 Ethereum-staking 的 tvl 部分\n",
    "    chain_data = data['chainTvls']['Ethereum-staking']['tvl']\n",
    "    \n",
    "    # 将提取的数据加载到 DataFrame 中\n",
    "    df = pd.DataFrame(chain_data)\n",
    "    \n",
    "    # 将日期转换为可读格式（可选）\n",
    "    df['date'] = pd.to_datetime(df['date'], unit='s')\n",
    "    \n",
    "    # 导出为 Excel 文件\n",
    "    df.to_excel('pendle_tvl_data.xlsx', index=False)  # index=False 可以不保存行索引\n",
    "    \n",
    "    print(\"数据已成功保存为 pendle_tvl_data.xlsx\")\n",
    "else:\n",
    "    print(f\"Error: {response.status_code}\")\n"
   ]
  },
  {
   "cell_type": "code",
   "execution_count": 6,
   "metadata": {},
   "outputs": [
    {
     "name": "stdout",
     "output_type": "stream",
     "text": [
      "Data saved to dune_daily_volume.csv\n"
     ]
    }
   ],
   "source": [
    "from dune_client.client import DuneClient\n",
    "import json\n",
    "import jsonpickle  # 用于序列化非 JSON 格式的对象\n",
    "import pandas as pd\n",
    "# 设置 API 密钥\n",
    "api_key = \"grZHkR3Mq81f9xNBEPVpPsjD9Nu7jyZo\"  \n",
    "dune = DuneClient(api_key)\n",
    "\n",
    "# 设置要执行的查询 ID\n",
    "query_id = 2363359  # 替换为你的查询 ID\n",
    "\n",
    "# 获取最新的查询结果\n",
    "query_result = dune.get_latest_result(query_id)\n",
    "\n",
    "# 检查结果并保存为 JSON 文件\n",
    "if query_result:\n",
    "    # 使用 jsonpickle 进行序列化\n",
    "    json_data = jsonpickle.encode(query_result, unpicklable=False)\n",
    "    \n",
    "    # # 将结果写入 JSON 文件\n",
    "    # with open(\"dune_query_result.json\", \"w\") as file:\n",
    "    #     file.write(json_data)\n",
    "\n",
    "    data = json.loads(json_data)\n",
    "    rows = data.get(\"result\", {}).get(\"rows\", [])\n",
    "\n",
    "    # 提取 \"day\" 和 \"daily_volume\" 并转换为 DataFrame\n",
    "    df = pd.DataFrame(rows)[[\"day\", \"daily_volume\"]]\n",
    "\n",
    "    # 保存为 CSV 文件\n",
    "    df.to_csv(\"gTrade_daily_volume.csv\", index=False)\n",
    "    print(\"Data saved to gTrade_daily_volume.csv\")\n",
    "    \n",
    "    # print(\"Data saved to dune_query_result.json\")\n",
    "else:\n",
    "    print(\"No results returned.\")\n",
    "\n"
   ]
  },
  {
   "cell_type": "code",
   "execution_count": 2,
   "metadata": {},
   "outputs": [
    {
     "name": "stdout",
     "output_type": "stream",
     "text": [
      "Data saved to gTrade_Trader_Stats.json\n"
     ]
    }
   ],
   "source": [
    "from dune_client.client import DuneClient\n",
    "import json\n",
    "import jsonpickle  # 用于序列化非 JSON 格式的对象\n",
    "import pandas as pd\n",
    "# 设置 API 密钥\n",
    "api_key = \"grZHkR3Mq81f9xNBEPVpPsjD9Nu7jyZo\"  \n",
    "dune = DuneClient(api_key)\n",
    "\n",
    "# 设置要执行的查询 ID\n",
    "query_id = 3140552  \n",
    "\n",
    "# 获取最新的查询结果\n",
    "query_result = dune.get_latest_result(query_id)\n",
    "\n",
    "# 检查结果并保存为 JSON 文件\n",
    "if query_result:\n",
    "    # 使用 jsonpickle 进行序列化\n",
    "    json_data = jsonpickle.encode(query_result, unpicklable=False)\n",
    "    \n",
    "    # 将结果写入 JSON 文件\n",
    "    # with open(\"gTrade_Trader_Stats.json\", \"w\") as file:\n",
    "    #     file.write(json_data)\n",
    "    # print(\"Data saved to gTrade_Trader_Stats.json\")\n",
    "    data = json.loads(json_data)\n",
    "    rows = data.get(\"result\", {}).get(\"rows\", [])\n",
    "\n",
    "    # 提取 \"day\" 和 \"daily_volume\" 并转换为 DataFrame\n",
    "    df = pd.DataFrame(rows)[[\"day\", \"daily_users\"]]\n",
    "\n",
    "    # 保存为 CSV 文件\n",
    "    df.to_csv(\"gTrade_daily_users.csv\", index=False)\n",
    "    print(\"Data saved to gTrade_daily_users.csv\")\n",
    "    \n",
    "\n",
    "else:\n",
    "    print(\"No results returned.\")\n",
    "\n"
   ]
  }
 ],
 "metadata": {
  "kernelspec": {
   "display_name": "mcmicm2024",
   "language": "python",
   "name": "python3"
  },
  "language_info": {
   "codemirror_mode": {
    "name": "ipython",
    "version": 3
   },
   "file_extension": ".py",
   "mimetype": "text/x-python",
   "name": "python",
   "nbconvert_exporter": "python",
   "pygments_lexer": "ipython3",
   "version": "3.10.10"
  }
 },
 "nbformat": 4,
 "nbformat_minor": 2
}
